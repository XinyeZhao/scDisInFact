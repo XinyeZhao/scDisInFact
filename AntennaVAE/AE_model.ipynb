{
 "cells": [
  {
   "cell_type": "code",
   "execution_count": 20,
   "metadata": {},
   "outputs": [],
   "source": [
    "import sys, os\n",
    "sys.path.append(os.path.dirname(os.path.dirname(os.path.realpath('./loss_function.py'))))\n",
    "import torch\n",
    "import torch.nn as nn\n",
    "import torch.nn.functional as F\n",
    "from typing import Iterable, List\n",
    "from torch.nn.parameter import Parameter\n",
    "import torchvision\n",
    "from torchvision import transforms\n",
    "import matplotlib.pyplot as plt\n",
    "\n",
    "import collections\n",
    "import pandas as pd \n",
    "import numpy as np\n",
    "import random \n",
    "from torch.utils.data import DataLoader, random_split\n",
    "import scanpy as sc\n",
    "\n",
    "from model import Encoder, Decoder, gene_act, FC\n",
    "from loss_function import MMD_LOSS, maximum_mean_discrepancy\n",
    "from utils import plot_train"
   ]
  },
  {
   "cell_type": "code",
   "execution_count": 21,
   "metadata": {},
   "outputs": [],
   "source": [
    "def _nan2inf(x):\n",
    "    return torch.where(torch.isnan(x), torch.zeros_like(x)+np.inf, x)\n",
    "\n",
    "def _nan2zero(x):\n",
    "    return torch.where(torch.isnan(x), torch.zeros_like(x), x)\n",
    "\n",
    "def _nelem(x):\n",
    "    nelem = torch.reduce_sum(torch.float(~torch.isnan(x), torch.float32))\n",
    "    return torch.float(torch.where(torch.equal(nelem, 0.), 1., nelem), x.dtype)\n",
    "\n",
    "def _reduce_mean(x):\n",
    "    nelem = _nelem(x)\n",
    "    x = _nan2zero(x)\n",
    "    return torch.divide(torch.reduce_sum(x), nelem)\n",
    "\n",
    "class NB():\n",
    "    def __init__(self, theta=None, masking=False, scope='nbinom_loss/',\n",
    "                 scale_factor=1.0, debug=False):\n",
    "\n",
    "        # for numerical stability\n",
    "        self.eps = 1e-10\n",
    "        self.scale_factor = scale_factor\n",
    "        self.debug = debug\n",
    "        self.scope = scope\n",
    "        self.masking = masking\n",
    "        self.theta = theta\n",
    "\n",
    "    def loss(self, y_true, y_pred, mean=True):\n",
    "        scale_factor = self.scale_factor\n",
    "        eps = self.eps\n",
    "\n",
    "        y_true = y_true.type(torch.float32)\n",
    "        y_pred = y_pred.type(torch.float32) * scale_factor\n",
    "\n",
    "        if self.masking:\n",
    "            nelem = _nelem(y_true)\n",
    "            y_true = _nan2zero(y_true)\n",
    "\n",
    "        # Clip theta\n",
    "        theta = torch.minimum(self.theta, torch.tensor(1e6))\n",
    "\n",
    "        t1 = torch.lgamma(theta+eps) + torch.lgamma(y_true+1.0) - torch.lgamma(y_true+theta+eps)\n",
    "        t2 = (theta+y_true) * torch.log(1.0 + (y_pred/(theta+eps))) + (y_true * (torch.log(theta+eps) - torch.log(y_pred+eps)))\n",
    "\n",
    "        final = t1 + t2\n",
    "\n",
    "        final = _nan2inf(final)\n",
    "\n",
    "        if mean:\n",
    "            if self.masking:\n",
    "                final = torch.divide(torch.reduce_sum(final), nelem)\n",
    "            else:\n",
    "                final = torch.reduce_mean(final)\n",
    "\n",
    "        return final  \n",
    "\n",
    "class ZINB(NB):\n",
    "    def __init__(self, pi, ridge_lambda=0.0, scope='zinb_loss/', **kwargs):\n",
    "        super().__init__(scope=scope, **kwargs)\n",
    "        self.pi = torch.tensor(pi)\n",
    "        self.ridge_lambda = ridge_lambda\n",
    "\n",
    "    def loss(self, y_true, y_pred, mean=True):\n",
    "        scale_factor = self.scale_factor\n",
    "        eps = self.eps\n",
    "\n",
    "        # reuse existing NB neg.log.lik.\n",
    "        # mean is always False here, because everything is calculated\n",
    "        # element-wise. we take the mean only in the end\n",
    "        nb_case = super().loss(y_true, y_pred, mean=False) - torch.log(torch.tensor(1.0-self.pi+eps))\n",
    "\n",
    "        y_true = y_true.type(torch.float32)\n",
    "        y_pred = y_pred.type(torch.float32) * scale_factor\n",
    "        theta = torch.minimum(self.theta, torch.tensor(1e6))\n",
    "\n",
    "        zero_nb = torch.pow(theta/(theta+y_pred+eps), theta)\n",
    "        zero_case = -torch.log(self.pi + ((1.0-self.pi)*zero_nb)+eps)\n",
    "        result = torch.where(torch.less(y_true, 1e-8), zero_case, nb_case)\n",
    "        ridge = self.ridge_lambda*torch.square(self.pi)\n",
    "        result += ridge\n",
    "\n",
    "        if mean:\n",
    "            if self.masking:\n",
    "                result = _reduce_mean(result) \n",
    "            else:\n",
    "                result = torch.mean(result)\n",
    "\n",
    "        result = _nan2inf(result)\n",
    "\n",
    "        return result"
   ]
  },
  {
   "cell_type": "code",
   "execution_count": 22,
   "metadata": {},
   "outputs": [],
   "source": [
    "# Data\n",
    "path_mtx = r\"./data/mtx_0.mtx\"\n",
    "data_test = sc.read_mtx(path_mtx)\n",
    "mtx_data = np.array(data_test.X.todense())"
   ]
  },
  {
   "cell_type": "code",
   "execution_count": 23,
   "metadata": {},
   "outputs": [
    {
     "name": "stdout",
     "output_type": "stream",
     "text": [
      "(238, 27943) (238, 5050)\n"
     ]
    },
    {
     "data": {
      "image/png": "[encoded data removed]",
      "text/plain": [
       "<Figure size 360x396 with 1 Axes>"
      ]
     },
     "metadata": {
      "needs_background": "light"
     },
     "output_type": "display_data"
    }
   ],
   "source": [
    "# PREVIEW\n",
    "load_data = data_test.copy()\n",
    "sc.pp.filter_genes(load_data, min_cells=50)\n",
    "print(data_test.shape, load_data.shape)\n",
    "\n",
    "sc.pl.highest_expr_genes(data_test, n_top=20)"
   ]
  },
  {
   "cell_type": "code",
   "execution_count": 24,
   "metadata": {},
   "outputs": [
    {
     "name": "stdout",
     "output_type": "stream",
     "text": [
      "238\n"
     ]
    }
   ],
   "source": [
    "batch_size = 32\n",
    "all_data = np.array(load_data.X.todense())\n",
    "random.seed(214)\n",
    "\n",
    "m = len(all_data)\n",
    "print(m)\n",
    "\n",
    "train_data, test_data = random_split(dataset=all_data, lengths=[int(m - m * 0.2), int(m * 0.2) + 1])\n",
    "\n",
    "train_loader = DataLoader(train_data, batch_size=batch_size)\n",
    "test_loader = DataLoader(test_data, batch_size=batch_size)"
   ]
  },
  {
   "cell_type": "code",
   "execution_count": 25,
   "metadata": {},
   "outputs": [],
   "source": [
    "net_struc = [all_data.shape[1], 1024, 512, 256, 128, 64]\n",
    "\n",
    "encoder = Encoder(features=net_struc)\n",
    "decoder = Decoder(features=net_struc[1:][::-1])\n",
    "\n",
    "# loss_fn = MMD_LOSS()\n",
    "loss_fn = nn.MSELoss()\n",
    "\n",
    "# Define Optimizer\n",
    "lr = 0.0001\n",
    "\n",
    "#Random seed\n",
    "torch.manual_seed(0)\n",
    "param_to_optimize = [\n",
    "    {'params': encoder.parameters()},\n",
    "    {'params': decoder.parameters()}\n",
    "]\n",
    "\n",
    "optim = torch.optim.Adam(param_to_optimize, lr=lr, weight_decay=1e-05)\n",
    "\n",
    "def add_noise(inputs, noise_factor=0.3):\n",
    "    noisy = inputs + torch.randn_like(inputs) * noise_factor\n",
    "    noisy = torch.clip(noisy, 0., 1.)\n",
    "    return noisy"
   ]
  },
  {
   "cell_type": "code",
   "execution_count": 26,
   "metadata": {},
   "outputs": [],
   "source": [
    "class OutputLayer(nn.Module):\n",
    "    def __init__(self, outputSize, lastHidden) -> None:\n",
    "        super().__init__()\n",
    "        self.output_size = outputSize\n",
    "        self.last_hidden = lastHidden\n",
    "        self.mean_layer = FC(features=[self.last_hidden, self.output_size])\n",
    "        self.pi_layer = FC(features=[self.last_hidden, self.output_size])\n",
    "        self.theta_layer = FC(features=[self.last_hidden, self.output_size])\n",
    "        # self.zinb = ZINB()\n",
    "\n",
    "    def forward(self, decodedData):\n",
    "        Miu = self.mean_layer(decodedData)\n",
    "        Pi = self.pi_layer(decodedData)\n",
    "        Theta = self.theta_layer(decodedData)\n",
    "        return Miu, Pi, Theta\n",
    "\n",
    "output_layer = OutputLayer(net_struc[0], net_struc[1])"
   ]
  },
  {
   "cell_type": "code",
   "execution_count": 32,
   "metadata": {},
   "outputs": [],
   "source": [
    "# Training\n",
    "def train_epoch(encoder, decoder, dataloader, optimizer):\n",
    "    encoder.train()\n",
    "    decoder.train()\n",
    "    output_layer.train()\n",
    "    train_loss = 0.0\n",
    "    for sc_data_batch in dataloader:\n",
    "        # Encode\n",
    "        encoded_data = encoder(sc_data_batch)\n",
    "        # Decode\n",
    "        decoded_data = decoder(encoded_data)\n",
    "\n",
    "        # Compute params for DCA\n",
    "        mean_param, pi_param, theta_param = output_layer(decoded_data)\n",
    "\n",
    "        # Evaluate loss\n",
    "        zinb = ZINB(pi_param, theta=theta_param)\n",
    "        zinb_loss = (zinb.loss(mean_param, sc_data_batch))\n",
    "        mmd_loss = maximum_mean_discrepancy(mean_param, sc_data_batch)\n",
    "        loss = zinb_loss * 0.5 + mmd_loss * 0.5\n",
    "\n",
    "        # Backword \n",
    "        optimizer.zero_grad()\n",
    "        loss.backward()\n",
    "        optimizer.step()\n",
    "        if loss.item() != np.NaN:\n",
    "            train_loss += loss.item()\n",
    "    return train_loss / len(dataloader.dataset)"
   ]
  },
  {
   "cell_type": "code",
   "execution_count": 28,
   "metadata": {},
   "outputs": [],
   "source": [
    "# Testing func\n",
    "def test_epoch(encoder, decoder, dataloader):\n",
    "    encoder.eval()\n",
    "    decoder.eval()\n",
    "    output_layer.eval()\n",
    "    test_loss = 0.0\n",
    "    with torch.no_grad(): # Don't track gradients\n",
    "        for sc_data_batch in dataloader:\n",
    "            # Encode\n",
    "            encoded_data = encoder(sc_data_batch)\n",
    "            # Decode\n",
    "            decoded_data = decoder(encoded_data)\n",
    "            # Compute params for DCA\n",
    "            mean_param, pi_param, theta_param = output_layer(decoded_data)\n",
    "\n",
    "            zinb = ZINB(pi_param, theta=theta_param)\n",
    "\n",
    "            zinb_loss = (zinb.loss(mean_param, sc_data_batch))\n",
    "            mmd_loss = maximum_mean_discrepancy(mean_param, sc_data_batch)\n",
    "            loss = zinb_loss * 0.5 + mmd_loss * 0.5\n",
    "            test_loss += loss.item()\n",
    "    return test_loss / len(dataloader.dataset)"
   ]
  },
  {
   "cell_type": "code",
   "execution_count": 40,
   "metadata": {},
   "outputs": [
    {
     "name": "stderr",
     "output_type": "stream",
     "text": [
      "C:\\Users\\91530\\AppData\\Local\\Temp/ipykernel_51808/2308866896.py:60: UserWarning: To copy construct from a tensor, it is recommended to use sourceTensor.clone().detach() or sourceTensor.clone().detach().requires_grad_(True), rather than torch.tensor(sourceTensor).\n",
      "  self.pi = torch.tensor(pi)\n",
      "C:\\Users\\91530\\AppData\\Local\\Temp/ipykernel_51808/2308866896.py:70: UserWarning: To copy construct from a tensor, it is recommended to use sourceTensor.clone().detach() or sourceTensor.clone().detach().requires_grad_(True), rather than torch.tensor(sourceTensor).\n",
      "  nb_case = super().loss(y_true, y_pred, mean=False) - torch.log(torch.tensor(1.0-self.pi+eps))\n"
     ]
    },
    {
     "name": "stdout",
     "output_type": "stream",
     "text": [
      "\n",
      " EPOCH 1/50 \t train loss inf \t val loss 0.32340776920318604\n",
      "\n",
      " EPOCH 2/50 \t train loss inf \t val loss 0.31943662961324054\n",
      "\n",
      " EPOCH 3/50 \t train loss inf \t val loss 0.3160349329312642\n",
      "\n",
      " EPOCH 4/50 \t train loss inf \t val loss 0.3117534319559733\n",
      "\n",
      " EPOCH 5/50 \t train loss inf \t val loss 0.3067932228247325\n"
     ]
    },
    {
     "data": {
      "image/png": "[encoded data removed]",
      "text/plain": [
       "<Figure size 432x288 with 1 Axes>"
      ]
     },
     "metadata": {
      "needs_background": "light"
     },
     "output_type": "display_data"
    },
    {
     "name": "stdout",
     "output_type": "stream",
     "text": [
      "\n",
      " EPOCH 6/50 \t train loss inf \t val loss 0.3014561136563619\n",
      "\n",
      " EPOCH 7/50 \t train loss inf \t val loss 0.2953374981880188\n",
      "\n",
      " EPOCH 8/50 \t train loss inf \t val loss inf\n"
     ]
    },
    {
     "ename": "KeyboardInterrupt",
     "evalue": "",
     "output_type": "error",
     "traceback": [
      "\u001b[1;31m---------------------------------------------------------------------------\u001b[0m",
      "\u001b[1;31mKeyboardInterrupt\u001b[0m                         Traceback (most recent call last)",
      "\u001b[1;32m~\\AppData\\Local\\Temp/ipykernel_51808/1350404450.py\u001b[0m in \u001b[0;36m<module>\u001b[1;34m\u001b[0m\n\u001b[0;32m      2\u001b[0m \u001b[0mdiz_loss\u001b[0m \u001b[1;33m=\u001b[0m \u001b[1;33m{\u001b[0m\u001b[1;34m'train_loss'\u001b[0m\u001b[1;33m:\u001b[0m\u001b[1;33m[\u001b[0m\u001b[1;33m]\u001b[0m\u001b[1;33m,\u001b[0m\u001b[1;34m'val_loss'\u001b[0m\u001b[1;33m:\u001b[0m\u001b[1;33m[\u001b[0m\u001b[1;33m]\u001b[0m\u001b[1;33m}\u001b[0m\u001b[1;33m\u001b[0m\u001b[1;33m\u001b[0m\u001b[0m\n\u001b[0;32m      3\u001b[0m \u001b[1;32mfor\u001b[0m \u001b[0mepoch\u001b[0m \u001b[1;32min\u001b[0m \u001b[0mrange\u001b[0m\u001b[1;33m(\u001b[0m\u001b[0mnum_epochs\u001b[0m\u001b[1;33m)\u001b[0m\u001b[1;33m:\u001b[0m\u001b[1;33m\u001b[0m\u001b[1;33m\u001b[0m\u001b[0m\n\u001b[1;32m----> 4\u001b[1;33m    \u001b[0mtrain_loss\u001b[0m \u001b[1;33m=\u001b[0m\u001b[0mtrain_epoch\u001b[0m\u001b[1;33m(\u001b[0m\u001b[0mencoder\u001b[0m\u001b[1;33m,\u001b[0m\u001b[0mdecoder\u001b[0m\u001b[1;33m,\u001b[0m \u001b[0mtrain_loader\u001b[0m\u001b[1;33m,\u001b[0m\u001b[0moptim\u001b[0m\u001b[1;33m)\u001b[0m\u001b[1;33m\u001b[0m\u001b[1;33m\u001b[0m\u001b[0m\n\u001b[0m\u001b[0;32m      5\u001b[0m    \u001b[0mtest_loss\u001b[0m \u001b[1;33m=\u001b[0m \u001b[0mtest_epoch\u001b[0m\u001b[1;33m(\u001b[0m\u001b[0mencoder\u001b[0m\u001b[1;33m,\u001b[0m\u001b[0mdecoder\u001b[0m\u001b[1;33m,\u001b[0m\u001b[0mtest_loader\u001b[0m\u001b[1;33m)\u001b[0m\u001b[1;33m\u001b[0m\u001b[1;33m\u001b[0m\u001b[0m\n\u001b[0;32m      6\u001b[0m    \u001b[0mprint\u001b[0m\u001b[1;33m(\u001b[0m\u001b[1;34m'\\n EPOCH {}/{} \\t train loss {} \\t val loss {}'\u001b[0m\u001b[1;33m.\u001b[0m\u001b[0mformat\u001b[0m\u001b[1;33m(\u001b[0m\u001b[0mepoch\u001b[0m \u001b[1;33m+\u001b[0m \u001b[1;36m1\u001b[0m\u001b[1;33m,\u001b[0m \u001b[0mnum_epochs\u001b[0m\u001b[1;33m,\u001b[0m\u001b[0mtrain_loss\u001b[0m\u001b[1;33m,\u001b[0m\u001b[0mtest_loss\u001b[0m\u001b[1;33m)\u001b[0m\u001b[1;33m)\u001b[0m\u001b[1;33m\u001b[0m\u001b[1;33m\u001b[0m\u001b[0m\n",
      "\u001b[1;32m~\\AppData\\Local\\Temp/ipykernel_51808/4180712935.py\u001b[0m in \u001b[0;36mtrain_epoch\u001b[1;34m(encoder, decoder, dataloader, optimizer)\u001b[0m\n\u001b[0;32m     22\u001b[0m         \u001b[1;31m# Backword\u001b[0m\u001b[1;33m\u001b[0m\u001b[1;33m\u001b[0m\u001b[1;33m\u001b[0m\u001b[0m\n\u001b[0;32m     23\u001b[0m         \u001b[0moptimizer\u001b[0m\u001b[1;33m.\u001b[0m\u001b[0mzero_grad\u001b[0m\u001b[1;33m(\u001b[0m\u001b[1;33m)\u001b[0m\u001b[1;33m\u001b[0m\u001b[1;33m\u001b[0m\u001b[0m\n\u001b[1;32m---> 24\u001b[1;33m         \u001b[0mloss\u001b[0m\u001b[1;33m.\u001b[0m\u001b[0mbackward\u001b[0m\u001b[1;33m(\u001b[0m\u001b[1;33m)\u001b[0m\u001b[1;33m\u001b[0m\u001b[1;33m\u001b[0m\u001b[0m\n\u001b[0m\u001b[0;32m     25\u001b[0m         \u001b[0moptimizer\u001b[0m\u001b[1;33m.\u001b[0m\u001b[0mstep\u001b[0m\u001b[1;33m(\u001b[0m\u001b[1;33m)\u001b[0m\u001b[1;33m\u001b[0m\u001b[1;33m\u001b[0m\u001b[0m\n\u001b[0;32m     26\u001b[0m         \u001b[1;32mif\u001b[0m \u001b[0mloss\u001b[0m\u001b[1;33m.\u001b[0m\u001b[0mitem\u001b[0m\u001b[1;33m(\u001b[0m\u001b[1;33m)\u001b[0m \u001b[1;33m!=\u001b[0m \u001b[0mnp\u001b[0m\u001b[1;33m.\u001b[0m\u001b[0mNaN\u001b[0m\u001b[1;33m:\u001b[0m\u001b[1;33m\u001b[0m\u001b[1;33m\u001b[0m\u001b[0m\n",
      "\u001b[1;32md:\\Francis Secrets\\Anaconda project\\scanpy_env\\lib\\site-packages\\torch\\_tensor.py\u001b[0m in \u001b[0;36mbackward\u001b[1;34m(self, gradient, retain_graph, create_graph, inputs)\u001b[0m\n\u001b[0;32m    305\u001b[0m                 \u001b[0mcreate_graph\u001b[0m\u001b[1;33m=\u001b[0m\u001b[0mcreate_graph\u001b[0m\u001b[1;33m,\u001b[0m\u001b[1;33m\u001b[0m\u001b[1;33m\u001b[0m\u001b[0m\n\u001b[0;32m    306\u001b[0m                 inputs=inputs)\n\u001b[1;32m--> 307\u001b[1;33m         \u001b[0mtorch\u001b[0m\u001b[1;33m.\u001b[0m\u001b[0mautograd\u001b[0m\u001b[1;33m.\u001b[0m\u001b[0mbackward\u001b[0m\u001b[1;33m(\u001b[0m\u001b[0mself\u001b[0m\u001b[1;33m,\u001b[0m \u001b[0mgradient\u001b[0m\u001b[1;33m,\u001b[0m \u001b[0mretain_graph\u001b[0m\u001b[1;33m,\u001b[0m \u001b[0mcreate_graph\u001b[0m\u001b[1;33m,\u001b[0m \u001b[0minputs\u001b[0m\u001b[1;33m=\u001b[0m\u001b[0minputs\u001b[0m\u001b[1;33m)\u001b[0m\u001b[1;33m\u001b[0m\u001b[1;33m\u001b[0m\u001b[0m\n\u001b[0m\u001b[0;32m    308\u001b[0m \u001b[1;33m\u001b[0m\u001b[0m\n\u001b[0;32m    309\u001b[0m     \u001b[1;32mdef\u001b[0m \u001b[0mregister_hook\u001b[0m\u001b[1;33m(\u001b[0m\u001b[0mself\u001b[0m\u001b[1;33m,\u001b[0m \u001b[0mhook\u001b[0m\u001b[1;33m)\u001b[0m\u001b[1;33m:\u001b[0m\u001b[1;33m\u001b[0m\u001b[1;33m\u001b[0m\u001b[0m\n",
      "\u001b[1;32md:\\Francis Secrets\\Anaconda project\\scanpy_env\\lib\\site-packages\\torch\\autograd\\__init__.py\u001b[0m in \u001b[0;36mbackward\u001b[1;34m(tensors, grad_tensors, retain_graph, create_graph, grad_variables, inputs)\u001b[0m\n\u001b[0;32m    152\u001b[0m         \u001b[0mretain_graph\u001b[0m \u001b[1;33m=\u001b[0m \u001b[0mcreate_graph\u001b[0m\u001b[1;33m\u001b[0m\u001b[1;33m\u001b[0m\u001b[0m\n\u001b[0;32m    153\u001b[0m \u001b[1;33m\u001b[0m\u001b[0m\n\u001b[1;32m--> 154\u001b[1;33m     Variable._execution_engine.run_backward(\n\u001b[0m\u001b[0;32m    155\u001b[0m         \u001b[0mtensors\u001b[0m\u001b[1;33m,\u001b[0m \u001b[0mgrad_tensors_\u001b[0m\u001b[1;33m,\u001b[0m \u001b[0mretain_graph\u001b[0m\u001b[1;33m,\u001b[0m \u001b[0mcreate_graph\u001b[0m\u001b[1;33m,\u001b[0m \u001b[0minputs\u001b[0m\u001b[1;33m,\u001b[0m\u001b[1;33m\u001b[0m\u001b[1;33m\u001b[0m\u001b[0m\n\u001b[0;32m    156\u001b[0m         allow_unreachable=True, accumulate_grad=True)  # allow_unreachable flag\n",
      "\u001b[1;31mKeyboardInterrupt\u001b[0m: "
     ]
    }
   ],
   "source": [
    "num_epochs = 50\n",
    "diz_loss = {'train_loss':[],'val_loss':[]}\n",
    "for epoch in range(num_epochs):\n",
    "   train_loss =train_epoch(encoder,decoder, train_loader,optim)\n",
    "   test_loss = test_epoch(encoder,decoder,test_loader)\n",
    "   print('\\n EPOCH {}/{} \\t train loss {} \\t val loss {}'.format(epoch + 1, num_epochs,train_loss,test_loss))\n",
    "   diz_loss['train_loss'].append(train_loss)\n",
    "   diz_loss['val_loss'].append(test_loss)\n",
    "   if epoch and (epoch + 1) % 5 == 0:\n",
    "      plot_train(diz_loss)"
   ]
  }
 ],
 "metadata": {
  "interpreter": {
   "hash": "61a52b259244b164c4849f7abc64962394aa861a8ee3a9faf3dff56f5ce380f3"
  },
  "kernelspec": {
   "display_name": "Python 3.8.8 64-bit ('scanpy_env': venv)",
   "language": "python",
   "name": "python3"
  },
  "language_info": {
   "codemirror_mode": {
    "name": "ipython",
    "version": 3
   },
   "file_extension": ".py",
   "mimetype": "text/x-python",
   "name": "python",
   "nbconvert_exporter": "python",
   "pygments_lexer": "ipython3",
   "version": "3.8.8"
  },
  "orig_nbformat": 4
 },
 "nbformat": 4,
 "nbformat_minor": 2
}
