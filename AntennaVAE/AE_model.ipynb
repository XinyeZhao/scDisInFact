{
 "cells": [
  {
   "cell_type": "code",
   "execution_count": 33,
   "metadata": {},
   "outputs": [],
   "source": [
    "import torch\n",
    "import torch.nn as nn\n",
    "import torch.nn.functional as F\n",
    "from typing import Iterable, List\n",
    "from torch.nn.parameter import Parameter\n",
    "import torchvision\n",
    "from torchvision import transforms\n",
    "import matplotlib.pyplot as plt\n",
    "\n",
    "import collections\n",
    "import pandas as pd \n",
    "import numpy as np\n",
    "import random \n",
    "from torch.utils.data import DataLoader, random_split\n",
    "import os\n",
    "import scanpy as sc\n",
    "\n",
    "from model import Encoder, Decoder, gene_act\n",
    "from loss_function import MMD_LOSS"
   ]
  },
  {
   "cell_type": "code",
   "execution_count": 24,
   "metadata": {},
   "outputs": [],
   "source": [
    "# Data\n",
    "path_mtx = r\"./data/mtx_0.mtx\"\n",
    "data_test = sc.read_mtx(path_mtx)\n",
    "mtx_data = np.array(data_test.X.todense())"
   ]
  },
  {
   "cell_type": "code",
   "execution_count": 9,
   "metadata": {},
   "outputs": [
    {
     "name": "stdout",
     "output_type": "stream",
     "text": [
      "(27943, 238)\n"
     ]
    }
   ],
   "source": [
    "print(mtx_data.T.shape)"
   ]
  },
  {
   "cell_type": "code",
   "execution_count": null,
   "metadata": {},
   "outputs": [],
   "source": []
  },
  {
   "cell_type": "code",
   "execution_count": 96,
   "metadata": {},
   "outputs": [
    {
     "name": "stdout",
     "output_type": "stream",
     "text": [
      "238\n",
      "(238, 27943)\n",
      "<torch.utils.data.dataloader.DataLoader object at 0x0000021B8112B4C0>\n"
     ]
    }
   ],
   "source": [
    "batch_size = 64\n",
    "all_data = mtx_data\n",
    "random.seed(214)\n",
    "m = len(all_data)\n",
    "print(m)\n",
    "\n",
    "train_data, test_data = random_split(dataset=all_data, lengths=[int(m - m * 0.2), int(m * 0.2) + 1])\n",
    "\n",
    "print((train_data.dataset.shape))\n",
    "train_loader = DataLoader(train_data, batch_size=batch_size)\n",
    "test_loader = DataLoader(test_data, batch_size=batch_size)\n",
    "print(train_loader)"
   ]
  },
  {
   "cell_type": "code",
   "execution_count": 97,
   "metadata": {},
   "outputs": [
    {
     "name": "stdout",
     "output_type": "stream",
     "text": [
      "torch.Size([64, 27943])\n"
     ]
    }
   ],
   "source": [
    "for i in train_loader:\n",
    "    print(i.shape)\n",
    "    break"
   ]
  },
  {
   "cell_type": "code",
   "execution_count": 98,
   "metadata": {},
   "outputs": [],
   "source": [
    "\n",
    "encoder = Encoder(features=[all_data.shape[1], 1024, 256, 64, 16])\n",
    "decoder = Decoder(features=[all_data.shape[1], 1024, 256, 64, 16][::-1])\n",
    "\n",
    "\n",
    "loss_fn = MMD_LOSS()\n",
    "\n",
    "# Define Optimizer\n",
    "lr = 0.001\n",
    "\n",
    "#Random seed\n",
    "torch.manual_seed(0)\n",
    "param_to_optimize = [\n",
    "    {'params': encoder.parameters()},\n",
    "    {'params': decoder.parameters()}\n",
    "]\n",
    "\n",
    "optim = torch.optim.Adam(param_to_optimize, lr=lr, weight_decay=1e-05)\n",
    "\n",
    "def add_noise(inputs, noise_factor=0.3):\n",
    "    noisy = inputs + torch.randn_like(inputs) * noise_factor\n",
    "    noisy = torch.clip(noisy, 0., 1.)\n",
    "    return noisy"
   ]
  },
  {
   "cell_type": "code",
   "execution_count": 99,
   "metadata": {},
   "outputs": [
    {
     "name": "stdout",
     "output_type": "stream",
     "text": [
      "tensor([[0., 0., 0., 0.],\n",
      "        [0., 0., 0., 0.]]) tensor([[1., 1., 1., 1.],\n",
      "        [1., 1., 1., 1.]])\n",
      "tensor(1.)\n"
     ]
    }
   ],
   "source": [
    "# ls = MMD_LOSS()\n",
    "ls = nn.MSELoss()\n",
    "# ls.forward()\n",
    "# print(ls([1,2,3], [1,2,3]))\n",
    "a = torch.zeros([2, 4])\n",
    "b = torch.ones([2,4])\n",
    "print(a, b)\n",
    "# ls.forward(a, b)\n",
    "print(ls.forward(a, b))"
   ]
  },
  {
   "cell_type": "code",
   "execution_count": 100,
   "metadata": {},
   "outputs": [],
   "source": [
    "# Training\n",
    "def train_epoch(encoder, decoder, dataloader, loss_fn, optimizer, noise_factor=0.3):\n",
    "    encoder.train()\n",
    "    decoder.train()\n",
    "    train_loss = []\n",
    "    for sc_data_batch in dataloader:\n",
    "        # _\n",
    "        sc_data_noisy = add_noise(sc_data_batch, noise_factor)\n",
    "        # Encode\n",
    "        encoded_data = encoder(sc_data_noisy)\n",
    "        # Decode\n",
    "        decoded_data = decoder(encoded_data)\n",
    "        # Evaluate loss\n",
    "        loss = loss_fn(decoded_data, sc_data_noisy)\n",
    "        # Backword \n",
    "        optimizer.zero_grad()\n",
    "        loss.backward()\n",
    "        optimizer.step()\n",
    "        # Print\n",
    "        # print('\\t partial train loss : %f' %(loss.data))\n",
    "        train_loss.append(loss.detach().numpy())\n",
    "    return np.mean(train_loss)"
   ]
  },
  {
   "cell_type": "code",
   "execution_count": 101,
   "metadata": {},
   "outputs": [],
   "source": [
    "# Testing func\n",
    "def test_epoch(encoder, decoder, dataloader, loss_fn, noise_factor=0.3):\n",
    "    encoder.eval()\n",
    "    decoder.eval()\n",
    "    with torch.no_grad(): # Don't track gradients\n",
    "        # conc_out = []\n",
    "        # conc_label = []\n",
    "        for sc_data_batch in dataloader:\n",
    "            sc_data_noisy = add_noise(sc_data_batch, noise_factor)\n",
    "            # Encode\n",
    "            encoded_data = encoder(sc_data_noisy)\n",
    "            # Decode\n",
    "            decoded_data = decoder(encoded_data)\n",
    "            # Append the output list to the original image\n",
    "            # conc_out.append(decoded_data)\n",
    "            # conc_label.append(sc_data_batch)\n",
    "            # Create single tensor with all values\n",
    "            # conc_out = torch.cat(conc_out)\n",
    "            # conc_label = torch.cat(conc_label)\n",
    "            # Evaluate global loss\n",
    "            val_loss = loss_fn(decoded_data, sc_data_noisy)\n",
    "    return val_loss / len(dataloader.dataset)        "
   ]
  },
  {
   "cell_type": "code",
   "execution_count": 102,
   "metadata": {},
   "outputs": [],
   "source": [
    "# def plot_ae_outputs(encoder,decoder,n=5):\n",
    "#     plt.figure(figsize=(10,4.5))\n",
    "#     for i in range(n):\n",
    "#       ax = plt.subplot(2,n,i+1)\n",
    "#       img = test_dataset[i][0].unsqueeze(0)\n",
    "#       encoder.eval()\n",
    "#       decoder.eval()\n",
    "#       with torch.no_grad():\n",
    "#          rec_img  = decoder(encoder(img))\n",
    "#       plt.imshow(img.cpu().squeeze().numpy(), cmap='gist_gray')\n",
    "#       ax.get_xaxis().set_visible(False)\n",
    "#       ax.get_yaxis().set_visible(False)  \n",
    "#       if i == n//2:\n",
    "#         ax.set_title('Original images')\n",
    "#       ax = plt.subplot(2, n, i + 1 + n)\n",
    "#       plt.imshow(rec_img.cpu().squeeze().numpy(), cmap='gist_gray')  \n",
    "#       ax.get_xaxis().set_visible(False)\n",
    "#       ax.get_yaxis().set_visible(False)  \n",
    "#       if i == n//2:\n",
    "#          ax.set_title('Reconstructed images')\n",
    "#     plt.show()"
   ]
  },
  {
   "cell_type": "code",
   "execution_count": 103,
   "metadata": {},
   "outputs": [
    {
     "name": "stdout",
     "output_type": "stream",
     "text": [
      "\n",
      " EPOCH 1/50 \t train loss 1.274095058441162 \t val loss 0.2253832221031189\n",
      "\n",
      " EPOCH 2/50 \t train loss 1.0065284967422485 \t val loss 0.21919041872024536\n",
      "\n",
      " EPOCH 3/50 \t train loss 0.8679742813110352 \t val loss 0.21091298758983612\n",
      "\n",
      " EPOCH 4/50 \t train loss 0.8557989001274109 \t val loss 0.19935517013072968\n",
      "\n",
      " EPOCH 5/50 \t train loss 0.8024044036865234 \t val loss 0.1872086375951767\n",
      "\n",
      " EPOCH 6/50 \t train loss 0.7701113224029541 \t val loss 0.16937290132045746\n",
      "\n",
      " EPOCH 7/50 \t train loss 0.7704030871391296 \t val loss 0.1525258719921112\n",
      "\n",
      " EPOCH 8/50 \t train loss 0.777195155620575 \t val loss 0.1297452598810196\n",
      "\n",
      " EPOCH 9/50 \t train loss 0.7641347050666809 \t val loss 0.11660504341125488\n",
      "\n",
      " EPOCH 10/50 \t train loss 0.7740700840950012 \t val loss 0.11759323626756668\n",
      "\n",
      " EPOCH 11/50 \t train loss 0.7543278336524963 \t val loss 0.12235695123672485\n",
      "\n",
      " EPOCH 12/50 \t train loss 0.730754554271698 \t val loss 0.11142468452453613\n",
      "\n",
      " EPOCH 13/50 \t train loss 0.7407973408699036 \t val loss 0.10077989846467972\n",
      "\n",
      " EPOCH 14/50 \t train loss 0.7401585578918457 \t val loss 0.09037915617227554\n",
      "\n",
      " EPOCH 15/50 \t train loss 0.7426852583885193 \t val loss 0.08376633375883102\n",
      "\n",
      " EPOCH 16/50 \t train loss 0.7524582743644714 \t val loss 0.07848236709833145\n",
      "\n",
      " EPOCH 17/50 \t train loss 0.764300525188446 \t val loss 0.07463247328996658\n",
      "\n",
      " EPOCH 18/50 \t train loss 0.742455005645752 \t val loss 0.07502405345439911\n",
      "\n",
      " EPOCH 19/50 \t train loss 0.7212557792663574 \t val loss 0.07187669724225998\n",
      "\n",
      " EPOCH 20/50 \t train loss 0.7027695178985596 \t val loss 0.07324054837226868\n",
      "\n",
      " EPOCH 21/50 \t train loss 0.7277159690856934 \t val loss 0.06923624873161316\n",
      "\n",
      " EPOCH 22/50 \t train loss 0.7429519295692444 \t val loss 0.07000149041414261\n",
      "\n",
      " EPOCH 23/50 \t train loss 0.7506253719329834 \t val loss 0.07172203809022903\n",
      "\n",
      " EPOCH 24/50 \t train loss 0.7273200154304504 \t val loss 0.07545163482427597\n",
      "\n",
      " EPOCH 25/50 \t train loss 0.7136028409004211 \t val loss 0.07709161192178726\n",
      "\n",
      " EPOCH 26/50 \t train loss 0.7093127369880676 \t val loss 0.07703489810228348\n",
      "\n",
      " EPOCH 27/50 \t train loss 0.7159091830253601 \t val loss 0.07408744096755981\n",
      "\n",
      " EPOCH 28/50 \t train loss 0.729545533657074 \t val loss 0.07336530089378357\n",
      "\n",
      " EPOCH 29/50 \t train loss 0.7148000597953796 \t val loss 0.07177559286355972\n",
      "\n",
      " EPOCH 30/50 \t train loss 0.7141005992889404 \t val loss 0.07047533243894577\n",
      "\n",
      " EPOCH 31/50 \t train loss 0.709256649017334 \t val loss 0.07760027796030045\n",
      "\n",
      " EPOCH 32/50 \t train loss 0.7141642570495605 \t val loss 0.08034586161375046\n",
      "\n",
      " EPOCH 33/50 \t train loss 0.7096211314201355 \t val loss 0.08302721381187439\n",
      "\n",
      " EPOCH 34/50 \t train loss 0.7010805010795593 \t val loss 0.08356249332427979\n",
      "\n",
      " EPOCH 35/50 \t train loss 0.7280883193016052 \t val loss 0.07975111156702042\n",
      "\n",
      " EPOCH 36/50 \t train loss 0.7251644134521484 \t val loss 0.07445337623357773\n",
      "\n",
      " EPOCH 37/50 \t train loss 0.7034865021705627 \t val loss 0.06311611086130142\n",
      "\n",
      " EPOCH 38/50 \t train loss 0.700458824634552 \t val loss 0.05704580619931221\n",
      "\n",
      " EPOCH 39/50 \t train loss 0.709000289440155 \t val loss 0.06384079903364182\n",
      "\n",
      " EPOCH 40/50 \t train loss 0.7142901420593262 \t val loss 0.06737685203552246\n",
      "\n",
      " EPOCH 41/50 \t train loss 0.7207057476043701 \t val loss 0.07445625215768814\n",
      "\n",
      " EPOCH 42/50 \t train loss 0.7202355861663818 \t val loss 0.07530608773231506\n",
      "\n",
      " EPOCH 43/50 \t train loss 0.7009127140045166 \t val loss 0.06911938637495041\n",
      "\n",
      " EPOCH 44/50 \t train loss 0.701210081577301 \t val loss 0.06557541340589523\n",
      "\n",
      " EPOCH 45/50 \t train loss 0.6996309161186218 \t val loss 0.06791902333498001\n",
      "\n",
      " EPOCH 46/50 \t train loss 0.7026121020317078 \t val loss 0.07270307093858719\n",
      "\n",
      " EPOCH 47/50 \t train loss 0.6933519840240479 \t val loss 0.0768500417470932\n",
      "\n",
      " EPOCH 48/50 \t train loss 0.6922647356987 \t val loss 0.08278078585863113\n",
      "\n",
      " EPOCH 49/50 \t train loss 0.6900672316551208 \t val loss 0.08837300539016724\n",
      "\n",
      " EPOCH 50/50 \t train loss 0.6974384784698486 \t val loss 0.09131868928670883\n"
     ]
    }
   ],
   "source": [
    "num_epochs = 50\n",
    "diz_loss = {'train_loss':[],'val_loss':[]}\n",
    "for epoch in range(num_epochs):\n",
    "   train_loss =train_epoch(encoder,decoder, train_loader,loss_fn,optim)\n",
    "   test_loss = test_epoch(encoder,decoder,test_loader,loss_fn)\n",
    "   print('\\n EPOCH {}/{} \\t train loss {} \\t val loss {}'.format(epoch + 1, num_epochs,train_loss,test_loss))\n",
    "   diz_loss['train_loss'].append(train_loss)\n",
    "   diz_loss['val_loss'].append(test_loss)"
   ]
  },
  {
   "cell_type": "code",
   "execution_count": 104,
   "metadata": {},
   "outputs": [
    {
     "data": {
      "text/plain": [
       "[<matplotlib.lines.Line2D at 0x21b81889d00>]"
      ]
     },
     "execution_count": 104,
     "metadata": {},
     "output_type": "execute_result"
    },
    {
     "data": {
      "image/png": "[encoded data removed]",
      "text/plain": [
       "<Figure size 432x288 with 1 Axes>"
      ]
     },
     "metadata": {
      "needs_background": "light"
     },
     "output_type": "display_data"
    }
   ],
   "source": [
    "# PLOT\n",
    "fig = plt.figure()\n",
    "ax = fig.add_subplot(1,1,1)\n",
    "# print(diz_loss)\n",
    "x_ax = range(len(diz_loss['train_loss']))\n",
    "# print(x_ax)\n",
    "# y_tcs = np.arange(0.1, 1, 0.05)\n",
    "# ax.set_ylim([0.1, 0.4])\n",
    "# plt.yticks(y_tcs)\n",
    "plt.plot(x_ax, diz_loss['train_loss'])\n",
    "plt.plot(x_ax, diz_loss['val_loss'])\n",
    "\n"
   ]
  },
  {
   "cell_type": "markdown",
   "metadata": {},
   "source": [
    "## MMD model from Kaggle"
   ]
  },
  {
   "cell_type": "code",
   "execution_count": 134,
   "metadata": {},
   "outputs": [],
   "source": [
    "device = torch.device(\"cuda\" if torch.cuda.is_available() else \"cpu\")\n",
    "\n",
    "def MMD(x, y):\n",
    "    '''\n",
    "    Using gaussian kernel for MMD\n",
    "    '''\n",
    "    xx, yy, zz = torch.mm(x, x.t()), torch.mm(y, y.t()), torch.mm(x, y.t())\n",
    "    rx = (xx.diag().unsqueeze(0).expand_as(xx))\n",
    "    ry = (yy.diag().unsqueeze(0).expand_as(yy))\n",
    "    print(xx, xx.diag(),xx.diag().unsqueeze(0), rx)\n",
    "    dxx = rx.t() + rx - 2. * xx # Used for A in (1)\n",
    "    dyy = ry.t() + ry - 2. * yy # Used for B in (1)\n",
    "    dxy = rx.t() + ry - 2. * zz # Used for C in (1)\n",
    "    \n",
    "    XX, YY, XY = (torch.zeros(xx.shape).to(device),\n",
    "                  torch.zeros(xx.shape).to(device),\n",
    "                  torch.zeros(xx.shape).to(device))\n",
    "    \n",
    "    # applying kernel method\n",
    "    sigmas = [1e-6, 1e-5, 1e-4, 1e-3, 1e-2, 1e-1, 1, 5, 10, 15, 20, 25, 30, 35, 100, 1e3, 1e4, 1e5, 1e6]\n",
    "    for sigma in sigmas:\n",
    "        XX += torch.exp(-0.5*dxx/sigma)\n",
    "        YY += torch.exp(-0.5*dyy/sigma)\n",
    "        XY += torch.exp(-0.5*dxy/sigma)\n",
    "\n",
    "    return torch.mean(XX + YY - 2. * XY)"
   ]
  }
 ],
 "metadata": {
  "interpreter": {
   "hash": "61a52b259244b164c4849f7abc64962394aa861a8ee3a9faf3dff56f5ce380f3"
  },
  "kernelspec": {
   "display_name": "Python 3.8.8 64-bit ('scanpy_env': venv)",
   "language": "python",
   "name": "python3"
  },
  "language_info": {
   "codemirror_mode": {
    "name": "ipython",
    "version": 3
   },
   "file_extension": ".py",
   "mimetype": "text/x-python",
   "name": "python",
   "nbconvert_exporter": "python",
   "pygments_lexer": "ipython3",
   "version": "3.8.8"
  },
  "orig_nbformat": 4
 },
 "nbformat": 4,
 "nbformat_minor": 2
}
